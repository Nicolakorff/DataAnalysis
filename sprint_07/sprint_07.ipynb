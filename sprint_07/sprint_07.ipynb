{
  "nbformat": 4,
  "nbformat_minor": 0,
  "metadata": {
    "colab": {
      "provenance": []
    },
    "kernelspec": {
      "name": "python3",
      "display_name": "Python 3"
    },
    "language_info": {
      "name": "python"
    }
  },
  "cells": [
    {
      "cell_type": "code",
      "source": [
        "# importamos librerias\n",
        "import re\n",
        "import string"
      ],
      "metadata": {
        "id": "XwolHYGtpTxP"
      },
      "execution_count": null,
      "outputs": []
    },
    {
      "cell_type": "markdown",
      "source": [
        "## Nivell 1"
      ],
      "metadata": {
        "id": "rUjdD6cVQyvg"
      }
    },
    {
      "cell_type": "markdown",
      "source": [
        "#### Exercici 1"
      ],
      "metadata": {
        "id": "UNOIdpspRBcF"
      }
    },
    {
      "cell_type": "markdown",
      "source": [
        "Calculadora de l'índex de massa corporal\n",
        "\n",
        "Escriu una funció que calculi l'IMC ingressat per l'usuari/ària, és a dir, qui ho executi haurà d'ingressar aquestes dades. Pots obtenir més informació del seu càlcul en:\n",
        "\n",
        "-> Índice de masa corporal IMC que es y como se calcula.\n",
        "\n",
        "La funció ha de classificar el resultat en les seves respectives categories"
      ],
      "metadata": {
        "id": "cvPVGWLwRGcE"
      }
    },
    {
      "cell_type": "markdown",
      "source": [
        "Creamos una función para solocitar el input, otra para calcular el IMC y sacar el output con la categoría pertinente según el resultado del IMC y una función main que contenga las otras dos.\n",
        "- utilizamos try/except para gestionar el caso de error de que el usuario inserte valores que no sean númericos.\n",
        "- para el input utilizamos el método replace, para gestionar el caso en que el usuario use comas en vez de puntos y se modifique automáticamente sin dar error convirtiendo a float el tipo del valor de la variable.\n",
        "- gestionamos también la opción de que el usuario inserte valores negativos.\n"
      ],
      "metadata": {
        "id": "mYDXXCd8q3lz"
      }
    },
    {
      "cell_type": "code",
      "source": [
        "# función de input del usuario:\n",
        "def input_imc():\n",
        "\n",
        "    try:\n",
        "        peso = input(\"\\nIntroduce tu peso en kg: \").replace(\",\", \".\")\n",
        "        peso = float(peso)\n",
        "        altura = input(\"Introduce tu altura en metros: \").replace(\",\", \".\")\n",
        "        altura = float(altura)\n",
        "        if peso <= 0 or altura <= 0:\n",
        "            print(\"El peso y la altura deben se valores positivos\")\n",
        "            return\n",
        "    except ValueError:\n",
        "        print(\"El valor debe ser numérico\")\n",
        "        return\n",
        "\n",
        "    return peso, altura\n"
      ],
      "metadata": {
        "id": "MsRuwH7an33_"
      },
      "execution_count": 29,
      "outputs": []
    },
    {
      "cell_type": "code",
      "source": [
        "# función de selección de categorías\n",
        "def categorias_imc():\n",
        "\n",
        "    imc = 0\n",
        "\n",
        "    if imc < 18.5:\n",
        "        categoria = \"Bajo peso.\"\n",
        "    elif 18.5 <= imc < 24.9:\n",
        "        categoria = \"Peso normal.\"\n",
        "    elif 25 <= imc < 29.9:\n",
        "        categoria = \"Sobrepeso\"\n",
        "    elif 30 <= imc < 34.9:\n",
        "        categoria = \"Obseidad grado I\"\n",
        "    elif 35 <= imc < 39.9:\n",
        "        categoria = \"Obesidad grado II\"\n",
        "    else:\n",
        "        categoria = \"Obesidad grado III (obesidad mórbida)\"\n",
        "\n",
        "    return categoria\n"
      ],
      "metadata": {
        "id": "f0e6EVxBpraI"
      },
      "execution_count": 46,
      "outputs": []
    },
    {
      "cell_type": "code",
      "source": [
        "# función main de calculo imc y output\n",
        "def calcular_imc():\n",
        "\n",
        "    print(\"Calculadora del Índice de Masa Corporal (IMC)\")\n",
        "    peso, altura = input_imc()\n",
        "    imc = peso / altura**2\n",
        "    print(\"\\nResultados obtenidos:\")\n",
        "    print(f\"- Tu índice de masa corporal (IMC) es: {imc:.2f}\")\n",
        "    categorias_imc()\n",
        "    print(f\"- Correspondiente a la categoría: {categorias_imc()}\")\n",
        "\n",
        "    return\n"
      ],
      "metadata": {
        "id": "P0FZH22UqAsq"
      },
      "execution_count": 49,
      "outputs": []
    },
    {
      "cell_type": "code",
      "source": [
        "# ejecutar la función\n",
        "calcular_imc()\n"
      ],
      "metadata": {
        "colab": {
          "base_uri": "https://localhost:8080/"
        },
        "id": "C1AYn_KbpD8y",
        "outputId": "9d2182da-27dc-4238-f996-666ad2ca80f5"
      },
      "execution_count": 51,
      "outputs": [
        {
          "output_type": "stream",
          "name": "stdout",
          "text": [
            "Calculadora del Índice de Masa Corporal (IMC)\n",
            "\n",
            "Introduce tu peso en kg: 60\n",
            "Introduce tu altura en metros: 1.73\n",
            "\n",
            "Resultados obtenidos:\n",
            "- Tu índice de masa corporal (IMC) es: 20.05\n",
            "- Correspondiente a la categoría: Bajo peso.\n"
          ]
        }
      ]
    },
    {
      "cell_type": "markdown",
      "source": [
        "#### Exercici 2"
      ],
      "metadata": {
        "id": "wbgAGKJvROec"
      }
    },
    {
      "cell_type": "markdown",
      "source": [
        "Convertidor de temperatures.\n",
        "\n",
        "Existeixen diverses unitats de temperatura utilitzades en diferents contextos i regions. Les més comunes són Celsius (°C), Fahrenheit (°F) i Kelvin (K). També existeixen altres unitats com Rankine (°Ra) i Réaumur (°Re). Selecciona almenys 2 conversors, de tal manera que en introduir una temperatura retorni, com a mínim, dues conversions."
      ],
      "metadata": {
        "id": "k9uA-Aq9RPXJ"
      }
    },
    {
      "cell_type": "markdown",
      "source": [
        "Creamos tres funciones, una para el input del usuario, una para los cálculos de conversión y una main que contenga las otras 2. Serán Celsius (°C), Fahrenheit (°F), Kelvin (K), Rankine (°Ra) y Réaumur (°Re) con salida de conversión de todas.\n",
        "- de nuevo gestionamos la posibilidad de que los valores introducidos por el usuario no sean los esperados con try/except.\n",
        "- manejamos diversas opciones de inserción de las unidades de origen para que siempre tengamos el valor de C/F/K/Ra/Re, aunque el usuario inserte el nombre completo creando una lista con la unidades permitidas.\n",
        "- utilizamos el método strip para que no haya espacios en blanco que se contabilicen como letras iniciales\n",
        "- también que los float se escriban con comas en vez de puntos con el método replace.\n",
        "- utilizamos el método upper para que sea siempre mayúsculas"
      ],
      "metadata": {
        "id": "TSiXJYYK4uLi"
      }
    },
    {
      "cell_type": "code",
      "source": [
        "# función de input del usuario:\n",
        "def input_temperatura():\n",
        "\n",
        "    print(\"Celsius (°C) = C\")\n",
        "    print(\"Fahrenheit (°F) = F\")\n",
        "    print(\"Kelvin (K) = K\")\n",
        "    print(\"Rankine (°Ra) = Ra\")\n",
        "    print(\"Réaumur (°Re) = Re\")\n",
        "\n",
        "    while True:\n",
        "        # Valor de la unidad\n",
        "        unidades_permitidas = [\"C\", \"F\", \"K\", \"RA\", \"RE\"]\n",
        "\n",
        "        unidad = input(\"Introduce la unidad de origen (C, F, K, Ra, Re): \").strip().upper()\n",
        "        try:\n",
        "            if unidad not in unidades_permitidas:\n",
        "                raise ValueError\n",
        "        except ValueError:\n",
        "            print(\"Introduce una unidad de origen válida (C, F, K, Ra, Re): \")\n",
        "            continue\n",
        "        else:\n",
        "            break\n",
        "\n",
        "    while True:\n",
        "        # Valor de la temperatura\n",
        "        try:\n",
        "            temp_input = input(\"Introduce la temperatura: \")\n",
        "            temp = float(temp_input)\n",
        "        except ValueError:\n",
        "            print(\"El valor debe ser numérico.\")\n",
        "            continue\n",
        "        else:\n",
        "            break\n",
        "\n",
        "    return unidad, temp\n"
      ],
      "metadata": {
        "id": "ptFUTaezrjQZ"
      },
      "execution_count": 29,
      "outputs": []
    },
    {
      "cell_type": "code",
      "source": [
        "# función de calculos de conversión de las temperaturas\n",
        "def calculos_temperatura(unidad, temp):\n",
        "\n",
        "    celsius = 0\n",
        "    fahrenheit = 0\n",
        "    kelvin = 0\n",
        "    rankine = 0\n",
        "    reaumur = 0\n",
        "\n",
        "    if unidad == \"C\":\n",
        "        celsius = temp\n",
        "        fahrenheit = (temp * 9/5) + 32\n",
        "        kelvin = temp + 273.15\n",
        "        rankine = (temp + 273.15) * 9/5\n",
        "        reaumur = temp * 4/5\n",
        "    elif unidad == \"F\":\n",
        "        celsius = (temp - 32) * 5/9\n",
        "        fahrenheit = temp\n",
        "        kelvin = (temp - 32) * 5/9 + 273.15\n",
        "        rankine = temp + 459.67\n",
        "        reaumur = (temp - 32) * 4/9\n",
        "    elif unidad == \"K\":\n",
        "        celsius = temp - 273.15\n",
        "        fahrenheit = (temp - 273.15) * 9/5 + 32\n",
        "        kelvin = temp\n",
        "        rankine = temp * 9/5\n",
        "        reaumur = (temp - 273.15) * 4/5\n",
        "    elif unidad == \"RA\":\n",
        "        celsius = (temp - 491.67) * 5/9\n",
        "        fahrenheit = temp - 459.67\n",
        "        kelvin = temp * 5/9\n",
        "        rankine = temp\n",
        "        reaumur = (temp - 491.67) * 4/9\n",
        "    elif unidad == \"RE\":\n",
        "        celsius = temp * 5/4\n",
        "        fahrenheit = (temp * 9/4) + 32\n",
        "        kelvin = temp * 5/4 + 273.15\n",
        "        rankine = temp * 9/4 + 491.67\n",
        "    else:\n",
        "        print(\"Unidad de origen no reconocida\")\n",
        "\n",
        "    return celsius, fahrenheit, kelvin, rankine, reaumur\n",
        ""
      ],
      "metadata": {
        "id": "WXMwwaHAxiWl"
      },
      "execution_count": 60,
      "outputs": []
    },
    {
      "cell_type": "code",
      "source": [
        "# función para convertir las temperaturas:\n",
        "def convertir_temperaturas():\n",
        "\n",
        "    print(\"Conversor de temperaturas\")\n",
        "    print(\"Unidades disponibles: Celsius (°C), Fahrenheit (°F), Kelvin (K), Rankine (°Ra) y Réaumur (°Re)\")\n",
        "    unidad, temp = input_temperatura()\n",
        "    celsius, fahrenheit, kelvin, rankine, reaumur = calculos_temperatura(unidad,temp)\n",
        "\n",
        "    # output resultados\n",
        "    print(\"\\nResultados:\")\n",
        "    if celsius is not None: print(f\"Celsius: {celsius:.2f} °C\")\n",
        "    if fahrenheit is not None: print(f\"Fahrenheit: {fahrenheit:.2f} °F\")\n",
        "    if kelvin is not None: print(f\"Kelvin: {kelvin:.2f} K\")\n",
        "    if rankine is not None: print(f\"Rankine: {rankine:.2f} °Ra\")\n",
        "    if reaumur is not None: print(f\"Réaumur: {reaumur:.2f} °Re\")\n",
        ""
      ],
      "metadata": {
        "id": "XBltFoZrtgVq"
      },
      "execution_count": 61,
      "outputs": []
    },
    {
      "cell_type": "code",
      "source": [
        "# ejecutar la función\n",
        "convertir_temperaturas()\n"
      ],
      "metadata": {
        "colab": {
          "base_uri": "https://localhost:8080/"
        },
        "id": "BONLft7B7z7g",
        "outputId": "4675bd56-c3b3-4e96-a2cf-a47e686eaa04"
      },
      "execution_count": 62,
      "outputs": [
        {
          "output_type": "stream",
          "name": "stdout",
          "text": [
            "Conversor de temperaturas\n",
            "Unidades disponibles: Celsius (°C), Fahrenheit (°F), Kelvin (K), Rankine (°Ra) y Réaumur (°Re)\n",
            "Celsius (°C) = C\n",
            "Fahrenheit (°F) = F\n",
            "Kelvin (K) = K\n",
            "Rankine (°Ra) = Ra\n",
            "Réaumur (°Re) = Re\n",
            "Introduce la unidad de origen (C, F, K, Ra, Re): C\n",
            "Introduce la temperatura: 20\n",
            "\n",
            "Resultados:\n",
            "Celsius: 20.00 °C\n",
            "Fahrenheit: 68.00 °F\n",
            "Kelvin: 293.15 K\n",
            "Rankine: 527.67 °Ra\n",
            "Réaumur: 16.00 °Re\n"
          ]
        }
      ]
    },
    {
      "cell_type": "markdown",
      "source": [
        "#### Exercici 3"
      ],
      "metadata": {
        "id": "WtcriYH9RTUg"
      }
    },
    {
      "cell_type": "markdown",
      "source": [
        "Comptador de paraules d'un text.\n",
        "\n",
        "Escriu una funció que donat un text, mostri les vegades que apareix cada paraula."
      ],
      "metadata": {
        "id": "lNFpArbKRWDl"
      }
    },
    {
      "cell_type": "markdown",
      "source": [
        "Creamos una función para mostrar las palabras que hay en un texto y contabilizar cuantas.\n",
        "- utilizamos el método lower para no contabilizar por separado mayúsculas\n",
        "- utilizamos expresiones regulares para quitar todo lo que no sean carácteres alfanuméricos.\n",
        "- el método strip para que no contabilice espacios en blanco\n",
        "- el método split para separar las palabras\n",
        "- creamos un diccionario donde insertamos las palabras con un loop for contabilizando las que se repiten."
      ],
      "metadata": {
        "id": "tqFGmlBtLQmL"
      }
    },
    {
      "cell_type": "code",
      "source": [
        "# función para dado un texto por usuario, ver y contar las palabras que contiene\n",
        "def contar_palabras():\n",
        "    print(\"Contador de palabras\")\n",
        "\n",
        "    # input usuario\n",
        "    texto = input(\"\\nIntroduce un texto: \")\n",
        "    texto_limpio = re.sub(r'[^\\w\\s]', '', texto).lower()\n",
        "\n",
        "    # calculo de palabras\n",
        "    palabras = texto_limpio.strip().split()\n",
        "    contador = {}\n",
        "\n",
        "    for palabra in palabras:\n",
        "        if palabra in contador:\n",
        "            contador[palabra] += 1\n",
        "        else:\n",
        "            contador[palabra] = 1\n",
        "\n",
        "    # output resultados\n",
        "    print(f\"\\nEl texto contine las siguientes palabras:\")\n",
        "    for palabra, frecuencia in contador.items():\n",
        "        print(f\"-{palabra}: {frecuencia}\")\n"
      ],
      "metadata": {
        "id": "NEiEi2fSRY67"
      },
      "execution_count": 69,
      "outputs": []
    },
    {
      "cell_type": "markdown",
      "source": [
        "**Textos para introducir:**\n",
        "- \"Hay dos cosas que son infinitas: el universo y la estupidez humana; de la primera no estoy muy seguro.\" **Albert Einstein**\n",
        "- \"El universo comenzó como una enorme respiración contenida. Quién sabe por qué, pero sea cual sea el motivo, me alegro de que así fuera, porque a ese hecho le debo mi existencia. Todos mis deseos y reflexiones no son más que corrientes de aire generadas por la exhalación gradual de nuestro universo. Y hasta que esta gran exhalación termine, mis pensamientos seguirán vivos.\" **Ted Chiang**, *La historia de tu vida*"
      ],
      "metadata": {
        "id": "7f_NNm2NlK-G"
      }
    },
    {
      "cell_type": "code",
      "source": [
        "# ejecutar la función\n",
        "contar_palabras()\n"
      ],
      "metadata": {
        "colab": {
          "base_uri": "https://localhost:8080/"
        },
        "id": "LpZxJ5kHOm09",
        "outputId": "3dce346f-c8b2-4df4-97a4-e23ff3f764a4"
      },
      "execution_count": 71,
      "outputs": [
        {
          "output_type": "stream",
          "name": "stdout",
          "text": [
            "Contador de palabras\n",
            "\n",
            "Introduce un texto: El universo comenzó como una enorme respiración contenida. Quién sabe por qué, pero sea cual sea el motivo, me alegro de que así fuera, porque a ese hecho le debo mi existencia. Todos mis deseos y reflexiones no son más que corrientes de aire generadas por la exhalación gradual de nuestro universo. Y hasta que esta gran exhalación termine, mis pensamientos seguirán vivos.\n",
            "\n",
            "El texto contine las siguientes palabras:\n",
            "-el: 2\n",
            "-universo: 2\n",
            "-comenzó: 1\n",
            "-como: 1\n",
            "-una: 1\n",
            "-enorme: 1\n",
            "-respiración: 1\n",
            "-contenida: 1\n",
            "-quién: 1\n",
            "-sabe: 1\n",
            "-por: 2\n",
            "-qué: 1\n",
            "-pero: 1\n",
            "-sea: 2\n",
            "-cual: 1\n",
            "-motivo: 1\n",
            "-me: 1\n",
            "-alegro: 1\n",
            "-de: 3\n",
            "-que: 3\n",
            "-así: 1\n",
            "-fuera: 1\n",
            "-porque: 1\n",
            "-a: 1\n",
            "-ese: 1\n",
            "-hecho: 1\n",
            "-le: 1\n",
            "-debo: 1\n",
            "-mi: 1\n",
            "-existencia: 1\n",
            "-todos: 1\n",
            "-mis: 2\n",
            "-deseos: 1\n",
            "-y: 2\n",
            "-reflexiones: 1\n",
            "-no: 1\n",
            "-son: 1\n",
            "-más: 1\n",
            "-corrientes: 1\n",
            "-aire: 1\n",
            "-generadas: 1\n",
            "-la: 1\n",
            "-exhalación: 2\n",
            "-gradual: 1\n",
            "-nuestro: 1\n",
            "-hasta: 1\n",
            "-esta: 1\n",
            "-gran: 1\n",
            "-termine: 1\n",
            "-pensamientos: 1\n",
            "-seguirán: 1\n",
            "-vivos: 1\n"
          ]
        }
      ]
    },
    {
      "cell_type": "markdown",
      "source": [
        "#### Exercici 4"
      ],
      "metadata": {
        "id": "SkQn8ENsRZP6"
      }
    },
    {
      "cell_type": "markdown",
      "source": [
        "Diccionari invers.\n",
        "\n",
        "Resulta que el client té una enquesta molt antiga que s'emmagatzema en un diccionari i els resultats els necessita al revés, és a dir, intercanviats les claus i els valors. Els valors i claus en el diccionari original són únics; si aquest no és el cas, la funció hauria d'imprimir un missatge d'advertiment."
      ],
      "metadata": {
        "id": "-qK3x77fRcl0"
      }
    },
    {
      "cell_type": "markdown",
      "source": [
        "Creamos una función donde\n",
        "- inicializamos una diccionario vacio.\n",
        "- Con un loop for recorremos las claves y los valores del diccionario original y con un condicional if, si el valor no está en el nuevo diccionario lo agregamos dando el valor como clave y la clave como valor.\n",
        "- En caso de tener valores duplicados printamos una advertencia."
      ],
      "metadata": {
        "id": "X_16-eNb_dpX"
      }
    },
    {
      "cell_type": "code",
      "source": [
        "# función para invertir un diccionario y convertirlo en único\n",
        "def invertir_dic(dic_original):\n",
        "    dic_invertido = {}\n",
        "\n",
        "    # recorrer el diccionario\n",
        "    for k, v in dic_original.items():\n",
        "        if v not in dic_invertido: dic_invertido[v] = k\n",
        "        else: print(\"Advertencia: Aparecen datos duplicados en el diccionario original.\")\n",
        "\n",
        "    # output resultados\n",
        "    return dic_invertido\n"
      ],
      "metadata": {
        "id": "AtnQPQukElDw"
      },
      "execution_count": 9,
      "outputs": []
    },
    {
      "cell_type": "code",
      "source": [
        "# diccionario de ejemplo:\n",
        "encuesta = {\n",
        "    \"a\": \"preg_1\",\n",
        "    \"b\": \"preg_2\",\n",
        "    \"c\": \"preg_3\",\n",
        "    \"d\": \"preg_4\",\n",
        "    \"e\": \"preg_5\",\n",
        "    \"f\": \"preg_5\",\n",
        "    \"g\": \"preg_7\"}\n",
        ""
      ],
      "metadata": {
        "id": "6hkOe3Ef2dec"
      },
      "execution_count": 10,
      "outputs": []
    },
    {
      "cell_type": "code",
      "source": [
        "# ejecutar la función\n",
        "dic_invertido = invertir_dic(encuesta)\n"
      ],
      "metadata": {
        "id": "sRfMMoIvRfwA",
        "colab": {
          "base_uri": "https://localhost:8080/"
        },
        "outputId": "21622576-dc0d-4091-e60e-9955c059a554"
      },
      "execution_count": 11,
      "outputs": [
        {
          "output_type": "stream",
          "name": "stdout",
          "text": [
            "Advertencia: Aparecen datos duplicados en el diccionario original.\n"
          ]
        }
      ]
    },
    {
      "cell_type": "markdown",
      "source": [
        "## Nivell 2"
      ],
      "metadata": {
        "id": "-8NuDWQcRlvo"
      }
    },
    {
      "cell_type": "markdown",
      "source": [
        "#### Exercici 1"
      ],
      "metadata": {
        "id": "IDTblcY7RmeH"
      }
    },
    {
      "cell_type": "markdown",
      "source": [
        "Diccionari invers amb duplicats\n",
        "\n",
        "Continuant amb l'exercici 4 del nivell 1: al client es va oblidar de comentar un detall i resulta que els valors en el diccionari original poden duplicar-se i més, per la qual cosa les claus intercanviades poden tenir duplicats. En aquest cas, en l'exercici anterior imprimies un missatge d'advertiment, ara, els valors del diccionari resultant hauran d'emmagatzemar-se com una llista. Tingues en compte que si és un valor únic no ha de ser una llista."
      ],
      "metadata": {
        "id": "fvXpWCA0RpG9"
      }
    },
    {
      "cell_type": "markdown",
      "source": [
        "Siguiendo el ejericico anterior, añadimos a la función creada\n",
        "- un condicional que en los casos de duplicados, es decir que la clave (antes valor) ya conste, añada como lista el valor (antes clave) de la clave (antes valor) duplicada.\n",
        "- Utilizamos la función type para convertir el valor en una lista de valores para los duplicados por si hay más de dos."
      ],
      "metadata": {
        "id": "OTqDpxQ47cVr"
      }
    },
    {
      "cell_type": "code",
      "source": [
        "# función para invertir claves y valores añadiendo los valores repetidos\n",
        "def invertir_dic_flexi(dic_original):\n",
        "    dic_invertido = {}\n",
        "\n",
        "    # recorrer el diccionario\n",
        "    for k, v in dic_original.items():\n",
        "        if v in dic_invertido:\n",
        "            if type(dic_invertido[v]) is list:\n",
        "                dic_invertido[v].append(k)\n",
        "            else: dic_invertido[v] = [dic_invertido[v], k]\n",
        "        else: dic_invertido[v] = k\n",
        "\n",
        "    # output resultados\n",
        "    print(dic_invertido)\n",
        "    return dic_invertido\n",
        ""
      ],
      "metadata": {
        "id": "1zt5DfKwJGPs"
      },
      "execution_count": 12,
      "outputs": []
    },
    {
      "cell_type": "code",
      "source": [
        "# diccionario de ejemplo:\n",
        "encuesta2 = {\n",
        "    \"a\": \"preg_1\",\n",
        "    \"b\": \"preg_2\",\n",
        "    \"c\": \"preg_3\",\n",
        "    \"d\": \"preg_4\",\n",
        "    \"e\": \"preg_5\",\n",
        "    \"f\": \"preg_5\",\n",
        "    \"g\": \"preg_2\",\n",
        "    \"h\": \"preg_6\",\n",
        "    \"i\": \"preg_5\"}\n",
        ""
      ],
      "metadata": {
        "id": "uqhb7m0gHqlK"
      },
      "execution_count": 13,
      "outputs": []
    },
    {
      "cell_type": "code",
      "source": [
        "# ejecutar la función\n",
        "dic_original = encuesta2\n",
        "dic_invertido = invertir_dic_flexi(encuesta2)\n"
      ],
      "metadata": {
        "colab": {
          "base_uri": "https://localhost:8080/"
        },
        "id": "vDpe3eVTH1fI",
        "outputId": "b4aac5eb-014d-4801-b536-411fcec99460"
      },
      "execution_count": 14,
      "outputs": [
        {
          "output_type": "stream",
          "name": "stdout",
          "text": [
            "{'preg_1': 'a', 'preg_2': ['b', 'g'], 'preg_3': 'c', 'preg_4': 'd', 'preg_5': ['e', 'f', 'i'], 'preg_6': 'h'}\n"
          ]
        }
      ]
    },
    {
      "cell_type": "markdown",
      "source": [
        "#### Exercici 2"
      ],
      "metadata": {
        "id": "nHIGjCJ4RscR"
      }
    },
    {
      "cell_type": "markdown",
      "source": [
        "Conversió de tipus de dades\n",
        "\n",
        "El client rep una llista de dades i necessita generar dues llistes, la primera on estaran tots els elements que es van poder convertir en flotants i l'altra on estan els elements que no es van poder convertir. Exemple de la llista que rep el client: [ '1.3', 'one' , '1e10' , 'seven', '3-1/2', ('2',1,1.4,'not-a-number'), [1,2,'3','3.4']]"
      ],
      "metadata": {
        "id": "Z237VAQTRu4h"
      }
    },
    {
      "cell_type": "markdown",
      "source": [
        "Creamos una función que coja un conjunto de datos que contenga valores simples, listas y tuplas.\n",
        "- Dentro de la función creamos dos listas en las que insertamos los datos separados y que nos seran devueltos al usar la función.\n",
        "- Recorremos los datos con un loop for y con un condicional if tratamos por separado los valroes simples de los valores dentro de listas y tuplas.\n",
        "- Estas son reconocidas con la función isinstance.\n",
        "- Recorremos también los sub_datos de las listas y tuplas.\n",
        "- Con el método replace() modificamos comas por puntos.\n",
        "- Convertimos a float aquellos valores que lo permiten y los añadimos a la lista correspondiente\n",
        "- con el uso de try-except ValueError separamos aquellos que no son convertibles a float para añadirlos a la lista correspondiente."
      ],
      "metadata": {
        "id": "LSZFMumJU7Ha"
      }
    },
    {
      "cell_type": "code",
      "source": [
        "datos = [ '1.3', 'one' , '1e10' , 'seven', '3-1/2', ('2',1,1.4,'not-a-number'), [1,2,'3','3.4']]\n"
      ],
      "metadata": {
        "id": "UA-MbUWj5MeZ"
      },
      "execution_count": 16,
      "outputs": []
    },
    {
      "cell_type": "code",
      "source": [
        "# función para separar flotantes de no flotantes\n",
        "def separar_flotantes(datos):\n",
        "    flotantes = []\n",
        "    no_flotantes = []\n",
        "\n",
        "    # recorremos los datos y ubicamos\n",
        "    for dato in datos:\n",
        "        if isinstance(dato, (list, tuple)):\n",
        "            for sub_dato in dato:\n",
        "                if isinstance(sub_dato, (int, float, str)):\n",
        "                    try:\n",
        "                        float_val = float(str(sub_dato).replace(',', '.'))\n",
        "                        flotantes.append(float_val)\n",
        "                    except ValueError:\n",
        "                        no_flotantes.append(sub_dato)\n",
        "                else:\n",
        "                    no_flotantes.append(sub_dato)\n",
        "        else:\n",
        "            if isinstance(dato, (int, float, str)):\n",
        "                try:\n",
        "                    float_val = float(str(dato).replace(',', '.'))\n",
        "                    flotantes.append(float_val)\n",
        "                except ValueError:\n",
        "                    no_flotantes.append(dato)\n",
        "            else:\n",
        "                no_flotantes.append(dato)\n",
        "\n",
        "    print(\"Elementos flotante:\", flotantes)\n",
        "    print(\"Elementos no flotante:\", no_flotantes)\n",
        "    return flotantes, no_flotantes\n"
      ],
      "metadata": {
        "id": "Sx2Cbs1D423x"
      },
      "execution_count": 21,
      "outputs": []
    },
    {
      "cell_type": "code",
      "source": [
        "# ejecutar la función\n",
        "flotantes, no_flotantes = separar_flotantes(datos)\n"
      ],
      "metadata": {
        "colab": {
          "base_uri": "https://localhost:8080/"
        },
        "id": "nmpNyt_O68lW",
        "outputId": "8f7d3ac6-206e-4f10-8bfb-2cd3ac572268"
      },
      "execution_count": 22,
      "outputs": [
        {
          "output_type": "stream",
          "name": "stdout",
          "text": [
            "Elementos flotante: [1.3, 10000000000.0, 2.0, 1.0, 1.4, 1.0, 2.0, 3.0, 3.4]\n",
            "Elementos no flotante: ['one', 'seven', '3-1/2', 'not-a-number']\n"
          ]
        }
      ]
    },
    {
      "cell_type": "markdown",
      "source": [
        "## Nivell 3"
      ],
      "metadata": {
        "id": "B8f_ClTRRz4m"
      }
    },
    {
      "cell_type": "markdown",
      "source": [
        "Comptador i endreçador de paraules d'un text.\n",
        "\n",
        "El client va quedar content amb el comptador de paraules, però ara vol llegir arxius TXT i que calculi la freqüència de cada paraula ordenades dins de les entrades habituals del diccionari segons la lletra amb la qual comencen, és a dir, les claus han d'anar de la A a la Z i dins de la A hem d'anar de la A la Z. Per exemple, per a l'arxiu \"tu_me_quieres_blanca.txt\" la sortida esperada seria:"
      ],
      "metadata": {
        "id": "vFilm96XR0up"
      }
    },
    {
      "cell_type": "markdown",
      "source": [
        "Creamos una función que nos permita crear un diccionario anidado donde\n",
        "- abrimos un archivo de texto con la codificación de carácteres utf-8,\n",
        "- lo insertamos en la variable texto como una cadena de texto y cerramos el archivo.\n",
        "- Limpiamos el texto de crácteres no alfanuméricos y quitamos los espacios en blanco, que se haya podido crear con la expresión anterior, con ReGex y el método strip() para los espacios en blanco iniciales y finales.\n",
        "- Lo convertimos todo a minúsculas para no contabilizar doble por mayúsculas con el método lower().\n",
        "- Separamos con el método split() el texto limpio en palabras.\n",
        "- Creamos el diccionario anidado utilizando del módulo string la llamada string.ascii_lowercase que nos devuelve el alfabeto en minúsculas para crear las claves de la a a la z.\n",
        "- Creamos un diccionario en el que insertamos la frecuencia de las palabras.\n",
        "- Para ello recorremos la lista de palabras y con el método .get() averiguamos si la palabra ya está en el diccionario, en caso afirmativo la contabiliza con +1, en caso negativo la añade con inicio de contador 0.\n",
        "- Recorremos los items del diccionario frecuencia_palabras, lo ordenamos alfabéticamente y lo insertamos dentro del diccionario_por_letra en la letra que le pertoca.\n",
        "- El diccionario tendrá como clave las letras y como valor el sub_diccionario que incluya como clave la palabra y como valor la frecuencia.\n",
        "- Retornamos el diccionario anidado, ordenado y contabilizada la frecuencia de cada palabra."
      ],
      "metadata": {
        "id": "Iode9TBcGxoE"
      }
    },
    {
      "cell_type": "code",
      "source": [
        "# función para calcular y ordenar las palabras\n",
        "def calcular_palabras_orden(archivo):\n",
        "\n",
        "    # cargamos el texto\n",
        "    texto = open(\"tu_me_quieres_blanca.txt\", 'r', encoding='utf-8')\n",
        "    texto_str = texto.read()\n",
        "    texto.close()\n",
        "\n",
        "    # limpiamos el texto con ReGex\n",
        "    texto_limpio = re.sub(r'[^\\w\\s]', '', texto_str).lower()\n",
        "    texto_limpio = re.sub(r'\\s+', ' ', texto_limpio).strip()\n",
        "\n",
        "    # separamos las palabras\n",
        "    palabras = texto_limpio.split()\n",
        "\n",
        "    # claculamos la frecuencia de cada palabra ordenada alfabeticamente\n",
        "    diccionario_por_letra = {letra: {} for letra in string.ascii_lowercase}\n",
        "\n",
        "    frecuencia_palabras = {}\n",
        "    for palabra in palabras:\n",
        "        frecuencia_palabras[palabra] = frecuencia_palabras.get(palabra, 0) + 1\n",
        "\n",
        "    # Organizar las palabras por la primera letra y ordenar alfabéticamente\n",
        "    for palabra, frecuencia in sorted(frecuencia_palabras.items()):\n",
        "        primera_letra = palabra[0]\n",
        "        if primera_letra in diccionario_por_letra:\n",
        "            diccionario_por_letra[primera_letra][palabra] = frecuencia\n",
        "\n",
        "    return diccionario_por_letra\n"
      ],
      "metadata": {
        "id": "nCmKzQwcMZ8B"
      },
      "execution_count": 33,
      "outputs": []
    },
    {
      "cell_type": "code",
      "source": [
        "# ejecutar la función\n",
        "dic_anidado = calcular_palabras_orden(\"tu_me_quieres_blanca.txt\")\n",
        "dic_anidado\n"
      ],
      "metadata": {
        "id": "Xg27r90E9FDB",
        "colab": {
          "base_uri": "https://localhost:8080/"
        },
        "outputId": "64025d61-d7d2-4d91-ffd5-ba254f56a1fd"
      },
      "execution_count": 34,
      "outputs": [
        {
          "output_type": "execute_result",
          "data": {
            "text/plain": [
              "{'a': {'a': 3,\n",
              "  'agua': 1,\n",
              "  'al': 2,\n",
              "  'alba': 4,\n",
              "  'alcobas': 1,\n",
              "  'alimenta': 1,\n",
              "  'alma': 1,\n",
              "  'amarga': 1,\n",
              "  'azucena': 1},\n",
              " 'b': {'baco': 1,\n",
              "  'banquete': 1,\n",
              "  'bebe': 1,\n",
              "  'blanca': 3,\n",
              "  'boca': 1,\n",
              "  'bosques': 1,\n",
              "  'buen': 1},\n",
              " 'c': {'cabañas': 1,\n",
              "  'carnes': 2,\n",
              "  'casta': 3,\n",
              "  'cerrada': 1,\n",
              "  'con': 4,\n",
              "  'conservas': 1,\n",
              "  'copas': 1,\n",
              "  'corola': 1,\n",
              "  'corriste': 1,\n",
              "  'cuando': 2,\n",
              "  'cubierto': 1,\n",
              "  'cuerpo': 1,\n",
              "  'cuáles': 1},\n",
              " 'd': {'de': 8, 'dejaste': 1, 'del': 1, 'diga': 1, 'dios': 2, 'duerme': 1},\n",
              " 'e': {'el': 4,\n",
              "  'ellas': 1,\n",
              "  'en': 4,\n",
              "  'engaño': 1,\n",
              "  'enredada': 1,\n",
              "  'entonces': 1,\n",
              "  'escarcha': 1,\n",
              "  'espumas': 1,\n",
              "  'esqueleto': 1,\n",
              "  'estrago': 1},\n",
              " 'f': {'festejando': 1, 'filtrado': 1, 'frutos': 1},\n",
              " 'h': {'habla': 1,\n",
              "  'hacia': 1,\n",
              "  'haya': 1,\n",
              "  'hayas': 1,\n",
              "  'hermana': 1,\n",
              "  'hombre': 1,\n",
              "  'hubiste': 1,\n",
              "  'huye': 1},\n",
              " 'i': {'intacto': 1},\n",
              " 'j': {'jardines': 1},\n",
              " 'l': {'la': 3,\n",
              "  'labios': 1,\n",
              "  'las': 7,\n",
              "  'lo': 2,\n",
              "  'los': 4,\n",
              "  'luna': 1,\n",
              "  'lévate': 1,\n",
              "  'límpiate': 1},\n",
              " 'm': {'mano': 1,\n",
              "  'manos': 1,\n",
              "  'margarita': 1,\n",
              "  'me': 10,\n",
              "  'mi': 1,\n",
              "  'mieles': 1,\n",
              "  'milagros': 1,\n",
              "  'mojada': 1,\n",
              "  'montaña': 1,\n",
              "  'morados': 1},\n",
              " 'n': {'negros': 1, 'ni': 2, 'no': 1, 'nácar': 1, 'nívea': 2},\n",
              " 'p': {'perdone': 2,\n",
              "  'perfume': 1,\n",
              "  'por': 2,\n",
              "  'pretendes': 3,\n",
              "  'preténdeme': 3,\n",
              "  'puesto': 1,\n",
              "  'pájaros': 1,\n",
              "  'pámpanos': 1},\n",
              " 'q': {'que': 6, 'quedó': 1, 'quieres': 6},\n",
              " 'r': {'rayo': 1, 'raíz': 1, 'renueva': 1, 'rocas': 1, 'rojo': 1},\n",
              " 's': {'salitre': 1, 'se': 2, 'sea': 1, 'sean': 1, 'sobre': 2, 'sé': 1},\n",
              " 't': {'te': 3,\n",
              "  'tejidos': 1,\n",
              "  'tenue': 1,\n",
              "  'tierra': 1,\n",
              "  'toca': 1,\n",
              "  'todas': 2,\n",
              "  'todavía': 1,\n",
              "  'tornadas': 1,\n",
              "  'tú': 8},\n",
              " 'u': {'un': 1, 'una': 1},\n",
              " 'v': {'vestido': 1, 'vete': 1, 'vive': 1},\n",
              " 'y': {'y': 5}}"
            ]
          },
          "metadata": {},
          "execution_count": 34
        }
      ]
    }
  ]
}